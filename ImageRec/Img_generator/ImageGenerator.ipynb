{
 "cells": [
  {
   "cell_type": "markdown",
   "metadata": {},
   "source": [
    "# Image Generation and Arrangement Notebook\n",
    "\n",
    "This notebook is designed to automate the process of generating images with random backgrounds and arranging them onto A4-sized papers for printing or further use.\n",
    "\n",
    "## Setup and Initialization\n",
    "\n",
    "This cell imports the necessary libraries and prints the current working directory before and after changing it to ensure the notebook's directory is set correctly."
   ]
  },
  {
   "cell_type": "code",
   "execution_count": 2,
   "metadata": {},
   "outputs": [
    {
     "name": "stdout",
     "output_type": "stream",
     "text": [
      "Current working directory before change: c:\\Users\\liang\\Downloads\\YOLOv5 Inference Server\\Image_generator\n",
      "Current working directory after change: c:\\Users\\liang\\Downloads\\YOLOv5 Inference Server\\Image_generator\n"
     ]
    }
   ],
   "source": [
    "import os\n",
    "import random\n",
    "from PIL import Image\n",
    "\n",
    "# Print the current working directory\n",
    "print(\"Current working directory before change:\", os.getcwd())\n",
    "\n",
    "# Change the current working directory to the directory of the notebook\n",
    "# This works for Jupyter Notebooks running in VS Code\n",
    "notebook_path = os.path.abspath(\"gen.ipynb\")\n",
    "notebook_dir = os.path.dirname(notebook_path)\n",
    "os.chdir(notebook_dir)\n",
    "\n",
    "# Verify the change\n",
    "print(\"Current working directory after change:\", os.getcwd())"
   ]
  },
  {
   "cell_type": "markdown",
   "metadata": {},
   "source": [
    "## Define Folders and Paths\n",
    "\n",
    "This cell defines the paths for the background images, character images, and the output images. It then generates composite images by overlaying character images onto randomly selected background images and saves them in the output folder."
   ]
  },
  {
   "cell_type": "markdown",
   "metadata": {},
   "source": [
    "- **background_folder**: Contains background images (`./backgrounds`).\n",
    "- **character_folder**: Contains character images with transparent backgrounds (`./text_transparent_background`).\n",
    "- **output_folder**: Stores generated composite images (`./text_random_background`)."
   ]
  },
  {
   "cell_type": "code",
   "execution_count": 5,
   "metadata": {},
   "outputs": [
    {
     "name": "stdout",
     "output_type": "stream",
     "text": [
      "Images generated successfully.\n"
     ]
    }
   ],
   "source": [
    "# Define the folders\n",
    "background_folder = './backgrounds'\n",
    "character_folder = './text_transparent_background'\n",
    "output_folder = './text_random_background'\n",
    "\n",
    "# Create output folder if it doesn't exist\n",
    "os.makedirs(output_folder, exist_ok=True)\n",
    "\n",
    "# List all files in the background and character folders\n",
    "background_files = [f for f in os.listdir(background_folder) if f.lower().endswith(('.jpg', '.jpeg', '.png'))]\n",
    "character_files = [f for f in os.listdir(character_folder) if f.lower().endswith(('.jpg', '.jpeg', '.png'))]\n",
    "\n",
    "# Loop through each character image\n",
    "for character_file in character_files:\n",
    "    character_path = os.path.join(character_folder, character_file)\n",
    "    character_img = Image.open(character_path).convert(\"RGBA\")\n",
    "    \n",
    "    # Randomly select 5 background images\n",
    "    selected_backgrounds = random.sample(background_files, 5)\n",
    "    \n",
    "    for i, background_file in enumerate(selected_backgrounds):\n",
    "        background_path = os.path.join(background_folder, background_file)\n",
    "        background_img = Image.open(background_path).convert(\"RGBA\")\n",
    "        \n",
    "        # Resize background image to match character image dimensions\n",
    "        background_img_resized = background_img.resize(character_img.size, Image.Resampling.LANCZOS)\n",
    "        \n",
    "        # Paste the character onto the background\n",
    "        combined_img = Image.alpha_composite(background_img_resized, character_img)\n",
    "        \n",
    "        # Convert to RGB mode before saving as JPEG\n",
    "        combined_img_rgb = combined_img.convert(\"RGB\")\n",
    "        \n",
    "        # Save the resulting image\n",
    "        output_path = os.path.join(output_folder, f\"{os.path.splitext(character_file)[0]}_on_{i}_{background_file}\")\n",
    "        combined_img_rgb.save(output_path, \"JPEG\")\n",
    "\n",
    "print(\"Images generated successfully.\")"
   ]
  },
  {
   "cell_type": "markdown",
   "metadata": {},
   "source": [
    "## Create A4-Sized Images\n",
    "\n",
    "This cell arranges the generated composite images onto A4-sized papers and saves them in the A4 folder."
   ]
  },
  {
   "cell_type": "code",
   "execution_count": 6,
   "metadata": {},
   "outputs": [
    {
     "name": "stdout",
     "output_type": "stream",
     "text": [
      "All images have been placed onto A4 folder successfully.\n"
     ]
    }
   ],
   "source": [
    "# Define the folder containing the images and the output folder\n",
    "image_folder = './text_random_background'\n",
    "output_folder = './A4'\n",
    "os.makedirs(output_folder, exist_ok=True)\n",
    "\n",
    "# A4 size in pixels at 300 DPI\n",
    "A4_WIDTH, A4_HEIGHT = 2480, 3508\n",
    "IMAGE_SIZE = 709  # 6x6 cm in pixels at 300 DPI\n",
    "\n",
    "# Get all images in the folder\n",
    "image_files = [os.path.join(image_folder, f) for f in os.listdir(image_folder) if f.lower().endswith(('.jpg', '.jpeg', '.png'))]\n",
    "\n",
    "# Function to create a new A4 image\n",
    "def create_new_a4():\n",
    "    return Image.new(\"RGB\", (A4_WIDTH, A4_HEIGHT), \"white\")\n",
    "\n",
    "# Initialize variables\n",
    "a4_img = create_new_a4()\n",
    "x_offset, y_offset = 0, 0\n",
    "page_number = 1\n",
    "\n",
    "# Loop through each image file\n",
    "for img_file in image_files:\n",
    "    img = Image.open(img_file).convert(\"RGB\")\n",
    "    img_resized = img.resize((IMAGE_SIZE, IMAGE_SIZE), Image.Resampling.LANCZOS)\n",
    "    \n",
    "    # Check if the image fits in the current row\n",
    "    if x_offset + IMAGE_SIZE > A4_WIDTH:\n",
    "        x_offset = 0\n",
    "        y_offset += IMAGE_SIZE\n",
    "    \n",
    "    # Check if the image fits in the current column\n",
    "    if y_offset + IMAGE_SIZE > A4_HEIGHT:\n",
    "        # Save the current A4 image and create a new one\n",
    "        a4_img.save(os.path.join(output_folder, f'a4_page_{page_number}.jpg'), \"JPEG\")\n",
    "        page_number += 1\n",
    "        a4_img = create_new_a4()\n",
    "        x_offset, y_offset = 0, 0\n",
    "    \n",
    "    # Paste the resized image onto the A4 image\n",
    "    a4_img.paste(img_resized, (x_offset, y_offset))\n",
    "    x_offset += IMAGE_SIZE\n",
    "\n",
    "# Save the last A4 image if it contains any images\n",
    "if x_offset != 0 or y_offset != 0:\n",
    "    a4_img.save(os.path.join(output_folder, f'a4_page_{page_number}.jpg'), \"JPEG\")\n",
    "\n",
    "print(\"All images have been placed onto A4 folder successfully.\")"
   ]
  }
 ],
 "metadata": {
  "kernelspec": {
   "display_name": "base",
   "language": "python",
   "name": "python3"
  },
  "language_info": {
   "codemirror_mode": {
    "name": "ipython",
    "version": 3
   },
   "file_extension": ".py",
   "mimetype": "text/x-python",
   "name": "python",
   "nbconvert_exporter": "python",
   "pygments_lexer": "ipython3",
   "version": "3.9.13"
  }
 },
 "nbformat": 4,
 "nbformat_minor": 2
}
